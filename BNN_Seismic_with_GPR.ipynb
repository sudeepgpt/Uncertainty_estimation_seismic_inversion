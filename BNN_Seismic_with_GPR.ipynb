{
  "cells": [
    {
      "cell_type": "code",
      "execution_count": null,
      "metadata": {
        "id": "DYwzEhvN3az6"
      },
      "outputs": [],
      "source": [
        "import numpy as np\n",
        "import scipy as sp\n",
        "import random\n",
        "%matplotlib inline\n",
        "import matplotlib.pyplot as plt\n",
        "#from scipy.signal import ricker\n",
        "from sklearn.metrics import mean_absolute_error\n",
        "from sklearn.metrics import mean_absolute_percentage_error\n",
        "from sklearn.metrics import r2_score\n",
        "from sklearn.model_selection import train_test_split\n",
        "\n",
        "from tensorflow.keras.layers import Input\n",
        "from tensorflow.keras.layers import Dense\n",
        "from tensorflow.keras.layers import Concatenate\n",
        "from tensorflow.keras.models import Model\n",
        "from tensorflow.keras.optimizers import Adam\n",
        "from tensorflow.keras.layers import Dropout\n",
        "from tensorflow.keras import layers\n",
        "\n",
        "from sklearn.gaussian_process import GaussianProcessRegressor\n",
        "from sklearn.gaussian_process.kernels import RBF\n",
        "\n",
        "from keras.layers import GaussianNoise\n",
        "\n",
        "from tqdm import tqdm_notebook as tqdm\n",
        "import urllib.request\n",
        "import tensorflow_probability as tfp\n",
        "import tensorflow as tf\n",
        "\n",
        "tfd = tfp.distributions\n",
        "tfb = tfp.bijectors"
      ]
    },
    {
      "cell_type": "markdown",
      "metadata": {
        "id": "q9xx7_bEHF1C"
      },
      "source": [
        "**Dataset Generation**"
      ]
    },
    {
      "cell_type": "code",
      "source": [
        "def syntheticSeismogram(v, rho, d):\n",
        "    \"\"\"\n",
        "    function syntheticSeismogram()\n",
        "    syntheicSeismogram generates a synthetic seismogram for a simple 1-D\n",
        "    layered model.\n",
        "    The wavelet options are based on (Ryan, 1994):\n",
        "        Ricker:\n",
        "        Ormsby:\n",
        "        Klauder:\n",
        "        Butterworth:\n",
        "    Lindsey Heagy\n",
        "    lheagy@eos.ubc.ca\n",
        "    November 30, 2013\n",
        "\n",
        "    v   = np.array([350, 1000, 2000]) # Velocity of each layer (m/s)\n",
        "    rho = np.array([1700, 2000, 2500]) # Density of each layer (kg/m^3)\n",
        "    d   = np.array([0, 100, 200]) # Position of top of each layer (m)\n",
        "    \"\"\"\n",
        "\n",
        "    # Ensure that these are float numpy arrays\n",
        "    v, rho, d = np.array(v, dtype=float), np.array(rho, dtype=float), np.array(d, dtype=float)\n",
        "\n",
        "    usingT = True\n",
        "\n",
        "    nlayer = len(v) # number of layers\n",
        "\n",
        "    # Check that the number of layers match\n",
        "    assert len(rho) == nlayer, 'Number of layer densities must match number of layer velocities'\n",
        "    assert len(d)   == nlayer, 'Number of layer tops must match the number of layer velocities'\n",
        "\n",
        "    # compute necessary parameters\n",
        "    Z   = rho*v                       # acoustic impedance\n",
        "    R   = np.diff(Z)/(Z[:-1] + Z[1:]) # reflection coefficients\n",
        "    twttop  = 2*d[1:]/v[:-1]\n",
        "    twttop  = np.cumsum(twttop)\n",
        "\n",
        "    # create model logs\n",
        "    resolution = 100\n",
        "    dpth   = np.linspace(0,np.max(d)+np.max(np.diff(d)),resolution)\n",
        "    nd     = len(dpth)\n",
        "\n",
        "    rholog  = np.zeros(nd)\n",
        "    vlog    = np.zeros(nd)\n",
        "    zlog    = np.zeros(nd)\n",
        "    rseries = np.zeros(nd)\n",
        "    twti    = np.zeros(nd)\n",
        "\n",
        "    for i in range(nlayer):\n",
        "        di         = (dpth >= d[i])\n",
        "        rholog[di] = rho[i]\n",
        "        vlog[di]   = v[i]\n",
        "        zlog[di]   = Z[i]\n",
        "        if i < nlayer-1:\n",
        "            di  = np.logical_and(di, dpth < d[i+1])\n",
        "            ir = np.arange(resolution)[di][-1:][0] #find(di, 1, 'last' )\n",
        "            if usingT:\n",
        "                if i == 0:\n",
        "                    rseries[ir] = R[i]\n",
        "                else:\n",
        "                    rseries[ir] = R[i]*np.prod(1-R[i-1]**2)\n",
        "            else:\n",
        "                rseries[ir] = R[i]\n",
        "        if i > 0:\n",
        "            twti[di] = twttop[i-1]\n",
        "\n",
        "    t  = 2.0*dpth/vlog + twti\n",
        "\n",
        "    # make wavelet\n",
        "    # Wavelet type and Frequency (Hz):\n",
        "    wavtyp = 'RICKER'\n",
        "    wavf   = np.array([10])\n",
        "\n",
        "    dtwav  = np.abs(np.min(np.diff(t)))\n",
        "    twav   = np.arange(-2.0/np.min(wavf), 2.0/np.min(wavf), dtwav)\n",
        "\n",
        "    # Get source wavelet\n",
        "    wav = {'RICKER':getRicker, 'ORMSBY':getOrmsby, 'KLAUDER':getKlauder}[wavtyp](wavf,twav)\n",
        "\n",
        "    # create synthetic seismogram\n",
        "    tseis = np.arange(0,np.max(t),dtwav) + np.min(twav)\n",
        "    tr    = t[np.abs(rseries) > 0]\n",
        "    rseriesconv = np.zeros(len(tseis))\n",
        "    for i in range(len(tr)):\n",
        "        index = np.abs(tseis - tr[i]).argmin()\n",
        "        rseriesconv[index] = R[i]\n",
        "\n",
        "    seis = np.convolve(wav,rseriesconv)\n",
        "    tseis = np.min(twav)+dtwav*np.arange(len(seis))\n",
        "    index = np.logical_and(tseis >= 0, tseis <= np.max(t))\n",
        "    tseis = tseis[index]\n",
        "    seis  = seis[index]\n",
        "    ##\n",
        "\n",
        "    return seis\n",
        "\n",
        "pi = np.pi\n",
        "def getRicker(f,t):\n",
        "    assert len(f) == 1, 'Ricker wavelet needs 1 frequency as input'\n",
        "    f = f[0]\n",
        "    pift = pi*f*t\n",
        "    wav = (1 - 2*pift**2)*np.exp(-pift**2)\n",
        "    return wav\n",
        "\n",
        "def getOrmsby(f,t):\n",
        "    assert len(f) == 4, 'Ormsby wavelet needs 4 frequencies as input'\n",
        "    f = np.sort(f) #Ormsby wavelet frequencies must be in increasing order\n",
        "    pif   = pi*f\n",
        "    den1  = pif[3] - pif[2]\n",
        "    den2  = pif[1] - pif[0]\n",
        "    term1 = (pif[3]*np.sinc(pif[3]*t))**2 - (pif[2]*np.sinc(pif[2]))**2\n",
        "    term2 = (pif[1]*np.sinc(pif[1]*t))**2 - (pif[0]*np.sinc(pif[0]))**2\n",
        "\n",
        "    wav   = term1/den1 - term2/den2;\n",
        "    return wav\n",
        "\n",
        "def getKlauder(f,t,T=5.0):\n",
        "    assert len(f) == 2, 'Klauder wavelet needs 2 frequencies as input'\n",
        "\n",
        "    k  = np.diff(f)/T\n",
        "    f0 = np.sum(f)/2.0\n",
        "    wav = np.real(np.sin(pi*k*t*(T-t))/(pi*k*t)*np.exp(2*pi*1j*f0*t))\n",
        "    return wav\n"
      ],
      "metadata": {
        "id": "A3HkmlWyHMCv"
      },
      "execution_count": null,
      "outputs": []
    },
    {
      "cell_type": "code",
      "source": [
        "d   = [0, 100, 250, 350] # Position of top of each layer (m)\n",
        "v   = [1550, 2800, 2000] # Velocity of each layer (m/s)\n",
        "rho = [1700, 2000, 2500, 1900] # Density of each layer (kg/m^3)\n",
        "\n"
      ],
      "metadata": {
        "id": "T3tkOz16Hylv"
      },
      "execution_count": null,
      "outputs": []
    },
    {
      "cell_type": "code",
      "source": [
        "def generate_velocity(n):\n",
        "  Vp_dataset = np.ones((n, 4))\n",
        "\n",
        "  for i in range(n):\n",
        "    Vp_dataset[i,0] = random.uniform(1500,3000)\n",
        "    Vp_dataset[i,1] = random.uniform(1500,3000)\n",
        "    Vp_dataset[i,2] = random.uniform(1500,3000)\n",
        "    Vp_dataset[i,3] = random.uniform(1500,3000)\n",
        "\n",
        "  return Vp_dataset"
      ],
      "metadata": {
        "id": "-fTeMFiWGq5z"
      },
      "execution_count": null,
      "outputs": []
    },
    {
      "cell_type": "code",
      "source": [
        "def generate_traces(n):\n",
        "  d   = [0, 100, 250, 350] # Position of top of each layer (m)\n",
        "  rho = [1700, 2000, 2500, 1900] # Density of each layer (kg/m^3)\n",
        "  Vp = generate_velocity(n)\n",
        "  seis = []\n",
        "  for i in range(n):\n",
        "    trace = syntheticSeismogram(Vp[i,:], rho, d)\n",
        "    seis.append(trace)\n",
        "\n",
        "  seis = np.array(seis)\n",
        "  return seis, Vp"
      ],
      "metadata": {
        "id": "ojJ7n6TZHc0O"
      },
      "execution_count": null,
      "outputs": []
    },
    {
      "cell_type": "code",
      "source": [
        "seis, Vp = generate_traces(500)"
      ],
      "metadata": {
        "colab": {
          "base_uri": "https://localhost:8080/"
        },
        "id": "yBzrtkA5H5tu",
        "outputId": "04099fcb-c0b0-45b6-e80a-22784ff46f5f"
      },
      "execution_count": null,
      "outputs": [
        {
          "output_type": "stream",
          "name": "stderr",
          "text": [
            "<ipython-input-5-546534a5e830>:10: VisibleDeprecationWarning: Creating an ndarray from ragged nested sequences (which is a list-or-tuple of lists-or-tuples-or ndarrays with different lengths or shapes) is deprecated. If you meant to do this, you must specify 'dtype=object' when creating the ndarray.\n",
            "  seis = np.array(seis)\n"
          ]
        }
      ]
    },
    {
      "cell_type": "code",
      "source": [
        "def numpy_fillna(data):\n",
        "    # Get lengths of each row of data\n",
        "    lens = np.array([len(i) for i in data])\n",
        "\n",
        "    # Mask of valid places in each row\n",
        "    mask = np.arange(lens.max()) < lens[:,None]\n",
        "\n",
        "    # Setup output array and put elements from data into masked positions\n",
        "    out = np.zeros(mask.shape, dtype=data.dtype)\n",
        "    out[mask] = np.concatenate(data)\n",
        "    return out\n",
        "\n",
        "seis = numpy_fillna(seis)\n"
      ],
      "metadata": {
        "id": "CQHcCP14KX2C"
      },
      "execution_count": null,
      "outputs": []
    },
    {
      "cell_type": "code",
      "execution_count": null,
      "metadata": {
        "id": "QcQPFa_eKyFF"
      },
      "outputs": [],
      "source": [
        "from sklearn.preprocessing import StandardScaler\n",
        "from sklearn.preprocessing import MinMaxScaler\n",
        "from sklearn.preprocessing import MaxAbsScaler\n",
        "\n",
        "# Normalize input variable X\n",
        "x_scaler = StandardScaler()\n",
        "X_norm = x_scaler.fit_transform(seis)\n",
        "\n",
        "# Normalize output variable y\n",
        "y_scaler = StandardScaler()\n",
        "y_norm = y_scaler.fit_transform(Vp)\n"
      ]
    },
    {
      "cell_type": "code",
      "execution_count": null,
      "metadata": {
        "id": "_nV14v96bHKB"
      },
      "outputs": [],
      "source": [
        "X_train, X_test, y_train, y_test = train_test_split(X_norm, y_norm, test_size=0.1, random_state=42) # Use normalized data for training\n",
        "X_train, X_val, y_train, y_val    = train_test_split(X_train, y_train, test_size=0.2, random_state=1)"
      ]
    },
    {
      "cell_type": "markdown",
      "metadata": {
        "id": "PcLHzeji-bMj"
      },
      "source": [
        "MC Dropout"
      ]
    },
    {
      "cell_type": "code",
      "execution_count": null,
      "metadata": {
        "id": "Pwk9vc-z-gKQ",
        "colab": {
          "base_uri": "https://localhost:8080/"
        },
        "outputId": "0c19d313-a2b6-42fe-fb61-8061dd350263"
      },
      "outputs": [
        {
          "output_type": "stream",
          "name": "stdout",
          "text": [
            "Model: \"model\"\n",
            "_________________________________________________________________\n",
            " Layer (type)                Output Shape              Param #   \n",
            "=================================================================\n",
            " input_1 (InputLayer)        [(None, None, 1)]         0         \n",
            "                                                                 \n",
            " conv1d (Conv1D)             (None, None, 30)          6030      \n",
            "                                                                 \n",
            " mc_dropout (MCDropout)      (None, None, 30)          0         \n",
            "                                                                 \n",
            " conv1d_1 (Conv1D)           (None, None, 10)          60010     \n",
            "                                                                 \n",
            " mc_dropout_1 (MCDropout)    (None, None, 10)          0         \n",
            "                                                                 \n",
            " global_max_pooling1d (Globa  (None, 10)               0         \n",
            " lMaxPooling1D)                                                  \n",
            "                                                                 \n",
            " dense (Dense)               (None, 4)                 44        \n",
            "                                                                 \n",
            "=================================================================\n",
            "Total params: 66,084\n",
            "Trainable params: 66,084\n",
            "Non-trainable params: 0\n",
            "_________________________________________________________________\n"
          ]
        }
      ],
      "source": [
        "import tensorflow as tf\n",
        "from tensorflow.keras import layers, models\n",
        "\n",
        "class MCDropout(tf.keras.layers.Dropout):\n",
        "  def call(self, inputs):\n",
        "    return super().call(inputs, training=True)\n",
        "\n",
        "# Input layer\n",
        "inputs = tf.keras.Input(shape=(None, 1))\n",
        "\n",
        "# Reshape layer\n",
        "#x = layers.Reshape((None, 1))(inputs)\n",
        "\n",
        "# Convolutional layers with Dropout\n",
        "x = layers.Conv1D(filters=30, kernel_size=200, activation='relu', padding = 'same')(inputs)\n",
        "x = MCDropout(0.5)(x)\n",
        "x = layers.Conv1D(filters=10, kernel_size=200, activation='relu', padding = 'same')(x)\n",
        "x = MCDropout(0.5)(x)\n",
        "\n",
        "\n",
        "\n",
        "# Flatten layer\n",
        "x = layers.GlobalMaxPooling1D()(x)\n",
        "\n",
        "# Fully connected layers with Dropout\n",
        "#x = layers.Dense(64, activation='relu')(x)\n",
        "#x = layers.Dropout(0.3)(x,training = True)\n",
        "\n",
        "\n",
        "# Output layer with 4 neurons for the 4-layer velocity model_mc\n",
        "outputs = layers.Dense(4)(x)\n",
        "\n",
        "# Create the model_mc\n",
        "model_mc = tf.keras.Model(inputs=inputs, outputs=outputs)\n",
        "\n",
        "# Compile the model_mc\n",
        "model_mc.compile(Adam(learning_rate = 0.00005), loss='mse', metrics=['mae'])\n",
        "\n",
        "# Print the model_mc summary\n",
        "model_mc.summary()\n"
      ]
    },
    {
      "cell_type": "code",
      "execution_count": null,
      "metadata": {
        "id": "JK2hXkR2_daW",
        "colab": {
          "base_uri": "https://localhost:8080/",
          "height": 401
        },
        "outputId": "dbbd6d0a-89d7-4b19-f81d-5e34d8669e98"
      },
      "outputs": [
        {
          "output_type": "stream",
          "name": "stdout",
          "text": [
            "Epoch 1/500\n",
            "113/113 [==============================] - 66s 575ms/step - loss: 1.1433 - mae: 0.8794 - val_loss: 0.9113 - val_mae: 0.7935\n",
            "Epoch 2/500\n",
            " 96/113 [========================>.....] - ETA: 9s - loss: 0.8585 - mae: 0.7700 "
          ]
        },
        {
          "output_type": "error",
          "ename": "KeyboardInterrupt",
          "evalue": "ignored",
          "traceback": [
            "\u001b[0;31m---------------------------------------------------------------------------\u001b[0m",
            "\u001b[0;31mKeyboardInterrupt\u001b[0m                         Traceback (most recent call last)",
            "\u001b[0;32m<ipython-input-13-2e846ed11c64>\u001b[0m in \u001b[0;36m<cell line: 1>\u001b[0;34m()\u001b[0m\n\u001b[0;32m----> 1\u001b[0;31m \u001b[0mmodel_mc\u001b[0m\u001b[0;34m.\u001b[0m\u001b[0mfit\u001b[0m\u001b[0;34m(\u001b[0m\u001b[0mX_train\u001b[0m\u001b[0;34m,\u001b[0m \u001b[0my_train\u001b[0m\u001b[0;34m,\u001b[0m \u001b[0mvalidation_data\u001b[0m\u001b[0;34m=\u001b[0m\u001b[0;34m(\u001b[0m\u001b[0mX_val\u001b[0m\u001b[0;34m,\u001b[0m \u001b[0my_val\u001b[0m\u001b[0;34m)\u001b[0m\u001b[0;34m,\u001b[0m \u001b[0mepochs\u001b[0m\u001b[0;34m=\u001b[0m\u001b[0;36m500\u001b[0m\u001b[0;34m,\u001b[0m \u001b[0mbatch_size\u001b[0m\u001b[0;34m=\u001b[0m\u001b[0;36m32\u001b[0m\u001b[0;34m,\u001b[0m \u001b[0mverbose\u001b[0m \u001b[0;34m=\u001b[0m \u001b[0;36m1\u001b[0m\u001b[0;34m)\u001b[0m\u001b[0;34m\u001b[0m\u001b[0;34m\u001b[0m\u001b[0m\n\u001b[0m",
            "\u001b[0;32m/usr/local/lib/python3.10/dist-packages/keras/utils/traceback_utils.py\u001b[0m in \u001b[0;36merror_handler\u001b[0;34m(*args, **kwargs)\u001b[0m\n\u001b[1;32m     63\u001b[0m         \u001b[0mfiltered_tb\u001b[0m \u001b[0;34m=\u001b[0m \u001b[0;32mNone\u001b[0m\u001b[0;34m\u001b[0m\u001b[0;34m\u001b[0m\u001b[0m\n\u001b[1;32m     64\u001b[0m         \u001b[0;32mtry\u001b[0m\u001b[0;34m:\u001b[0m\u001b[0;34m\u001b[0m\u001b[0;34m\u001b[0m\u001b[0m\n\u001b[0;32m---> 65\u001b[0;31m             \u001b[0;32mreturn\u001b[0m \u001b[0mfn\u001b[0m\u001b[0;34m(\u001b[0m\u001b[0;34m*\u001b[0m\u001b[0margs\u001b[0m\u001b[0;34m,\u001b[0m \u001b[0;34m**\u001b[0m\u001b[0mkwargs\u001b[0m\u001b[0;34m)\u001b[0m\u001b[0;34m\u001b[0m\u001b[0;34m\u001b[0m\u001b[0m\n\u001b[0m\u001b[1;32m     66\u001b[0m         \u001b[0;32mexcept\u001b[0m \u001b[0mException\u001b[0m \u001b[0;32mas\u001b[0m \u001b[0me\u001b[0m\u001b[0;34m:\u001b[0m\u001b[0;34m\u001b[0m\u001b[0;34m\u001b[0m\u001b[0m\n\u001b[1;32m     67\u001b[0m             \u001b[0mfiltered_tb\u001b[0m \u001b[0;34m=\u001b[0m \u001b[0m_process_traceback_frames\u001b[0m\u001b[0;34m(\u001b[0m\u001b[0me\u001b[0m\u001b[0;34m.\u001b[0m\u001b[0m__traceback__\u001b[0m\u001b[0;34m)\u001b[0m\u001b[0;34m\u001b[0m\u001b[0;34m\u001b[0m\u001b[0m\n",
            "\u001b[0;32m/usr/local/lib/python3.10/dist-packages/keras/engine/training.py\u001b[0m in \u001b[0;36mfit\u001b[0;34m(self, x, y, batch_size, epochs, verbose, callbacks, validation_split, validation_data, shuffle, class_weight, sample_weight, initial_epoch, steps_per_epoch, validation_steps, validation_batch_size, validation_freq, max_queue_size, workers, use_multiprocessing)\u001b[0m\n\u001b[1;32m   1683\u001b[0m                         ):\n\u001b[1;32m   1684\u001b[0m                             \u001b[0mcallbacks\u001b[0m\u001b[0;34m.\u001b[0m\u001b[0mon_train_batch_begin\u001b[0m\u001b[0;34m(\u001b[0m\u001b[0mstep\u001b[0m\u001b[0;34m)\u001b[0m\u001b[0;34m\u001b[0m\u001b[0;34m\u001b[0m\u001b[0m\n\u001b[0;32m-> 1685\u001b[0;31m                             \u001b[0mtmp_logs\u001b[0m \u001b[0;34m=\u001b[0m \u001b[0mself\u001b[0m\u001b[0;34m.\u001b[0m\u001b[0mtrain_function\u001b[0m\u001b[0;34m(\u001b[0m\u001b[0miterator\u001b[0m\u001b[0;34m)\u001b[0m\u001b[0;34m\u001b[0m\u001b[0;34m\u001b[0m\u001b[0m\n\u001b[0m\u001b[1;32m   1686\u001b[0m                             \u001b[0;32mif\u001b[0m \u001b[0mdata_handler\u001b[0m\u001b[0;34m.\u001b[0m\u001b[0mshould_sync\u001b[0m\u001b[0;34m:\u001b[0m\u001b[0;34m\u001b[0m\u001b[0;34m\u001b[0m\u001b[0m\n\u001b[1;32m   1687\u001b[0m                                 \u001b[0mcontext\u001b[0m\u001b[0;34m.\u001b[0m\u001b[0masync_wait\u001b[0m\u001b[0;34m(\u001b[0m\u001b[0;34m)\u001b[0m\u001b[0;34m\u001b[0m\u001b[0;34m\u001b[0m\u001b[0m\n",
            "\u001b[0;32m/usr/local/lib/python3.10/dist-packages/tensorflow/python/util/traceback_utils.py\u001b[0m in \u001b[0;36merror_handler\u001b[0;34m(*args, **kwargs)\u001b[0m\n\u001b[1;32m    148\u001b[0m     \u001b[0mfiltered_tb\u001b[0m \u001b[0;34m=\u001b[0m \u001b[0;32mNone\u001b[0m\u001b[0;34m\u001b[0m\u001b[0;34m\u001b[0m\u001b[0m\n\u001b[1;32m    149\u001b[0m     \u001b[0;32mtry\u001b[0m\u001b[0;34m:\u001b[0m\u001b[0;34m\u001b[0m\u001b[0;34m\u001b[0m\u001b[0m\n\u001b[0;32m--> 150\u001b[0;31m       \u001b[0;32mreturn\u001b[0m \u001b[0mfn\u001b[0m\u001b[0;34m(\u001b[0m\u001b[0;34m*\u001b[0m\u001b[0margs\u001b[0m\u001b[0;34m,\u001b[0m \u001b[0;34m**\u001b[0m\u001b[0mkwargs\u001b[0m\u001b[0;34m)\u001b[0m\u001b[0;34m\u001b[0m\u001b[0;34m\u001b[0m\u001b[0m\n\u001b[0m\u001b[1;32m    151\u001b[0m     \u001b[0;32mexcept\u001b[0m \u001b[0mException\u001b[0m \u001b[0;32mas\u001b[0m \u001b[0me\u001b[0m\u001b[0;34m:\u001b[0m\u001b[0;34m\u001b[0m\u001b[0;34m\u001b[0m\u001b[0m\n\u001b[1;32m    152\u001b[0m       \u001b[0mfiltered_tb\u001b[0m \u001b[0;34m=\u001b[0m \u001b[0m_process_traceback_frames\u001b[0m\u001b[0;34m(\u001b[0m\u001b[0me\u001b[0m\u001b[0;34m.\u001b[0m\u001b[0m__traceback__\u001b[0m\u001b[0;34m)\u001b[0m\u001b[0;34m\u001b[0m\u001b[0;34m\u001b[0m\u001b[0m\n",
            "\u001b[0;32m/usr/local/lib/python3.10/dist-packages/tensorflow/python/eager/polymorphic_function/polymorphic_function.py\u001b[0m in \u001b[0;36m__call__\u001b[0;34m(self, *args, **kwds)\u001b[0m\n\u001b[1;32m    892\u001b[0m \u001b[0;34m\u001b[0m\u001b[0m\n\u001b[1;32m    893\u001b[0m       \u001b[0;32mwith\u001b[0m \u001b[0mOptionalXlaContext\u001b[0m\u001b[0;34m(\u001b[0m\u001b[0mself\u001b[0m\u001b[0;34m.\u001b[0m\u001b[0m_jit_compile\u001b[0m\u001b[0;34m)\u001b[0m\u001b[0;34m:\u001b[0m\u001b[0;34m\u001b[0m\u001b[0;34m\u001b[0m\u001b[0m\n\u001b[0;32m--> 894\u001b[0;31m         \u001b[0mresult\u001b[0m \u001b[0;34m=\u001b[0m \u001b[0mself\u001b[0m\u001b[0;34m.\u001b[0m\u001b[0m_call\u001b[0m\u001b[0;34m(\u001b[0m\u001b[0;34m*\u001b[0m\u001b[0margs\u001b[0m\u001b[0;34m,\u001b[0m \u001b[0;34m**\u001b[0m\u001b[0mkwds\u001b[0m\u001b[0;34m)\u001b[0m\u001b[0;34m\u001b[0m\u001b[0;34m\u001b[0m\u001b[0m\n\u001b[0m\u001b[1;32m    895\u001b[0m \u001b[0;34m\u001b[0m\u001b[0m\n\u001b[1;32m    896\u001b[0m       \u001b[0mnew_tracing_count\u001b[0m \u001b[0;34m=\u001b[0m \u001b[0mself\u001b[0m\u001b[0;34m.\u001b[0m\u001b[0mexperimental_get_tracing_count\u001b[0m\u001b[0;34m(\u001b[0m\u001b[0;34m)\u001b[0m\u001b[0;34m\u001b[0m\u001b[0;34m\u001b[0m\u001b[0m\n",
            "\u001b[0;32m/usr/local/lib/python3.10/dist-packages/tensorflow/python/eager/polymorphic_function/polymorphic_function.py\u001b[0m in \u001b[0;36m_call\u001b[0;34m(self, *args, **kwds)\u001b[0m\n\u001b[1;32m    924\u001b[0m       \u001b[0;31m# In this case we have created variables on the first call, so we run the\u001b[0m\u001b[0;34m\u001b[0m\u001b[0;34m\u001b[0m\u001b[0m\n\u001b[1;32m    925\u001b[0m       \u001b[0;31m# defunned version which is guaranteed to never create variables.\u001b[0m\u001b[0;34m\u001b[0m\u001b[0;34m\u001b[0m\u001b[0m\n\u001b[0;32m--> 926\u001b[0;31m       \u001b[0;32mreturn\u001b[0m \u001b[0mself\u001b[0m\u001b[0;34m.\u001b[0m\u001b[0m_no_variable_creation_fn\u001b[0m\u001b[0;34m(\u001b[0m\u001b[0;34m*\u001b[0m\u001b[0margs\u001b[0m\u001b[0;34m,\u001b[0m \u001b[0;34m**\u001b[0m\u001b[0mkwds\u001b[0m\u001b[0;34m)\u001b[0m  \u001b[0;31m# pylint: disable=not-callable\u001b[0m\u001b[0;34m\u001b[0m\u001b[0;34m\u001b[0m\u001b[0m\n\u001b[0m\u001b[1;32m    927\u001b[0m     \u001b[0;32melif\u001b[0m \u001b[0mself\u001b[0m\u001b[0;34m.\u001b[0m\u001b[0m_variable_creation_fn\u001b[0m \u001b[0;32mis\u001b[0m \u001b[0;32mnot\u001b[0m \u001b[0;32mNone\u001b[0m\u001b[0;34m:\u001b[0m\u001b[0;34m\u001b[0m\u001b[0;34m\u001b[0m\u001b[0m\n\u001b[1;32m    928\u001b[0m       \u001b[0;31m# Release the lock early so that multiple threads can perform the call\u001b[0m\u001b[0;34m\u001b[0m\u001b[0;34m\u001b[0m\u001b[0m\n",
            "\u001b[0;32m/usr/local/lib/python3.10/dist-packages/tensorflow/python/eager/polymorphic_function/tracing_compiler.py\u001b[0m in \u001b[0;36m__call__\u001b[0;34m(self, *args, **kwargs)\u001b[0m\n\u001b[1;32m    141\u001b[0m       (concrete_function,\n\u001b[1;32m    142\u001b[0m        filtered_flat_args) = self._maybe_define_function(args, kwargs)\n\u001b[0;32m--> 143\u001b[0;31m     return concrete_function._call_flat(\n\u001b[0m\u001b[1;32m    144\u001b[0m         filtered_flat_args, captured_inputs=concrete_function.captured_inputs)  # pylint: disable=protected-access\n\u001b[1;32m    145\u001b[0m \u001b[0;34m\u001b[0m\u001b[0m\n",
            "\u001b[0;32m/usr/local/lib/python3.10/dist-packages/tensorflow/python/eager/polymorphic_function/monomorphic_function.py\u001b[0m in \u001b[0;36m_call_flat\u001b[0;34m(self, args, captured_inputs, cancellation_manager)\u001b[0m\n\u001b[1;32m   1755\u001b[0m         and executing_eagerly):\n\u001b[1;32m   1756\u001b[0m       \u001b[0;31m# No tape is watching; skip to running the function.\u001b[0m\u001b[0;34m\u001b[0m\u001b[0;34m\u001b[0m\u001b[0m\n\u001b[0;32m-> 1757\u001b[0;31m       return self._build_call_outputs(self._inference_function.call(\n\u001b[0m\u001b[1;32m   1758\u001b[0m           ctx, args, cancellation_manager=cancellation_manager))\n\u001b[1;32m   1759\u001b[0m     forward_backward = self._select_forward_and_backward_functions(\n",
            "\u001b[0;32m/usr/local/lib/python3.10/dist-packages/tensorflow/python/eager/polymorphic_function/monomorphic_function.py\u001b[0m in \u001b[0;36mcall\u001b[0;34m(self, ctx, args, cancellation_manager)\u001b[0m\n\u001b[1;32m    379\u001b[0m       \u001b[0;32mwith\u001b[0m \u001b[0m_InterpolateFunctionError\u001b[0m\u001b[0;34m(\u001b[0m\u001b[0mself\u001b[0m\u001b[0;34m)\u001b[0m\u001b[0;34m:\u001b[0m\u001b[0;34m\u001b[0m\u001b[0;34m\u001b[0m\u001b[0m\n\u001b[1;32m    380\u001b[0m         \u001b[0;32mif\u001b[0m \u001b[0mcancellation_manager\u001b[0m \u001b[0;32mis\u001b[0m \u001b[0;32mNone\u001b[0m\u001b[0;34m:\u001b[0m\u001b[0;34m\u001b[0m\u001b[0;34m\u001b[0m\u001b[0m\n\u001b[0;32m--> 381\u001b[0;31m           outputs = execute.execute(\n\u001b[0m\u001b[1;32m    382\u001b[0m               \u001b[0mstr\u001b[0m\u001b[0;34m(\u001b[0m\u001b[0mself\u001b[0m\u001b[0;34m.\u001b[0m\u001b[0msignature\u001b[0m\u001b[0;34m.\u001b[0m\u001b[0mname\u001b[0m\u001b[0;34m)\u001b[0m\u001b[0;34m,\u001b[0m\u001b[0;34m\u001b[0m\u001b[0;34m\u001b[0m\u001b[0m\n\u001b[1;32m    383\u001b[0m               \u001b[0mnum_outputs\u001b[0m\u001b[0;34m=\u001b[0m\u001b[0mself\u001b[0m\u001b[0;34m.\u001b[0m\u001b[0m_num_outputs\u001b[0m\u001b[0;34m,\u001b[0m\u001b[0;34m\u001b[0m\u001b[0;34m\u001b[0m\u001b[0m\n",
            "\u001b[0;32m/usr/local/lib/python3.10/dist-packages/tensorflow/python/eager/execute.py\u001b[0m in \u001b[0;36mquick_execute\u001b[0;34m(op_name, num_outputs, inputs, attrs, ctx, name)\u001b[0m\n\u001b[1;32m     50\u001b[0m   \u001b[0;32mtry\u001b[0m\u001b[0;34m:\u001b[0m\u001b[0;34m\u001b[0m\u001b[0;34m\u001b[0m\u001b[0m\n\u001b[1;32m     51\u001b[0m     \u001b[0mctx\u001b[0m\u001b[0;34m.\u001b[0m\u001b[0mensure_initialized\u001b[0m\u001b[0;34m(\u001b[0m\u001b[0;34m)\u001b[0m\u001b[0;34m\u001b[0m\u001b[0;34m\u001b[0m\u001b[0m\n\u001b[0;32m---> 52\u001b[0;31m     tensors = pywrap_tfe.TFE_Py_Execute(ctx._handle, device_name, op_name,\n\u001b[0m\u001b[1;32m     53\u001b[0m                                         inputs, attrs, num_outputs)\n\u001b[1;32m     54\u001b[0m   \u001b[0;32mexcept\u001b[0m \u001b[0mcore\u001b[0m\u001b[0;34m.\u001b[0m\u001b[0m_NotOkStatusException\u001b[0m \u001b[0;32mas\u001b[0m \u001b[0me\u001b[0m\u001b[0;34m:\u001b[0m\u001b[0;34m\u001b[0m\u001b[0;34m\u001b[0m\u001b[0m\n",
            "\u001b[0;31mKeyboardInterrupt\u001b[0m: "
          ]
        }
      ],
      "source": [
        "model_mc.fit(X_train, y_train, validation_data=(X_val, y_val), epochs=500, batch_size=32, verbose = 1)"
      ]
    },
    {
      "cell_type": "code",
      "execution_count": null,
      "metadata": {
        "colab": {
          "base_uri": "https://localhost:8080/"
        },
        "id": "DXl6J4gK93Iu",
        "outputId": "9830a5fb-50b2-4c1b-b988-08d2790635bc"
      },
      "outputs": [
        {
          "output_type": "execute_result",
          "data": {
            "text/plain": [
              "92.32254466149033"
            ]
          },
          "metadata": {},
          "execution_count": 93
        }
      ],
      "source": [
        "preds = model_mc(X_test, training = False)\n",
        "y_preds = y_scaler.inverse_transform(preds)\n",
        "y_test_inv = y_scaler.inverse_transform(y_test)\n",
        "#y_train_inv = y_scaler.inverse_transform(y_train)\n",
        "mae = mean_absolute_error(y_preds, y_test_inv)\n",
        "mae"
      ]
    },
    {
      "cell_type": "code",
      "execution_count": null,
      "metadata": {
        "id": "0BKY1ZjuxmTl"
      },
      "outputs": [],
      "source": [
        "import numpy as np\n",
        "\n",
        "# Perform Monte Carlo sampling\n",
        "n_samples = 300  # Number of Monte Carlo samples\n",
        "predictions = np.zeros((n_samples, X_test.shape[0], 4))\n",
        "\n",
        "for i in range(n_samples):\n",
        "    preds = model_mc(X_test, training = False)\n",
        "    y_preds = y_scaler.inverse_transform(preds)\n",
        "    predictions[i] = y_preds\n",
        "\n",
        "# Calculate mean and standard deviation of predictions\n",
        "mean_predictions = np.mean(predictions, axis=0)\n",
        "std_predictions = np.std(predictions, axis=0)\n"
      ]
    },
    {
      "cell_type": "code",
      "source": [
        "mae = mean_absolute_error(y_test_inv, mean_predictions)\n",
        "mae"
      ],
      "metadata": {
        "colab": {
          "base_uri": "https://localhost:8080/"
        },
        "id": "e9nYJCEYKMsY",
        "outputId": "3cf03739-70d2-4468-f5a6-5c2236f4c2bb"
      },
      "execution_count": null,
      "outputs": [
        {
          "output_type": "execute_result",
          "data": {
            "text/plain": [
              "64.93299861810677"
            ]
          },
          "metadata": {},
          "execution_count": 95
        }
      ]
    },
    {
      "cell_type": "code",
      "source": [
        "ll = np.zeros((X_test.shape[0], 4)) # lower limit\n",
        "ul = np.zeros((X_test.shape[0], 4)) # lower limit\n",
        "\n",
        "for i in range(X_test.shape[0]):\n",
        "  ll[i] = mean_predictions[i] - 2*std_predictions[i]\n",
        "  ul[i] = mean_predictions[i] + 2*std_predictions[i]\n"
      ],
      "metadata": {
        "id": "3O1ZVxwZOLh1"
      },
      "execution_count": null,
      "outputs": []
    },
    {
      "cell_type": "code",
      "source": [
        "def getlogs(v, d):\n",
        "\n",
        "    # Ensure that these are float numpy arrays\n",
        "    v, d = np.array(v, dtype=float), np.array(d, dtype=float)\n",
        "\n",
        "    nlayer = len(v) # number of layers\n",
        "\n",
        "    # Check that the number of layers match\n",
        "    assert len(rho) == nlayer, 'Number of layer densities must match number of layer velocities'\n",
        "    assert len(d)   == nlayer, 'Number of layer tops must match the number of layer velocities'\n",
        "\n",
        "    # create model logs\n",
        "    resolution = 100\n",
        "    dpth   = np.linspace(0,np.max(d)+np.max(np.diff(d)),resolution)\n",
        "    nd     = len(dpth)\n",
        "    vlog    = np.zeros(nd)\n",
        "\n",
        "    for i in range(nlayer):\n",
        "        di         = (dpth >= d[i])\n",
        "        vlog[di]   = v[i]\n",
        "\n",
        "    return vlog"
      ],
      "metadata": {
        "id": "HNbT4t1tqe4I"
      },
      "execution_count": null,
      "outputs": []
    },
    {
      "cell_type": "code",
      "source": [
        "resolution = 100\n",
        "dpth   = np.linspace(0,np.max(d)+np.max(np.diff(d)),resolution)\n",
        "dpth.shape"
      ],
      "metadata": {
        "colab": {
          "base_uri": "https://localhost:8080/"
        },
        "id": "nEHtchVtr6db",
        "outputId": "e047ee5c-5d77-4aa8-b40c-1dcfeedf7e3a"
      },
      "execution_count": null,
      "outputs": [
        {
          "output_type": "execute_result",
          "data": {
            "text/plain": [
              "(100,)"
            ]
          },
          "metadata": {},
          "execution_count": 98
        }
      ]
    },
    {
      "cell_type": "code",
      "source": [
        "Vp_pred = []\n",
        "Vp_pred_ul = []\n",
        "Vp_pred_ll = []\n",
        "Vp_true = []\n",
        "\n",
        "for j in range(0, X_test.shape[0]):\n",
        "  Vp_pred.append(getlogs(mean_predictions[j,:],d))\n",
        "  Vp_true.append(getlogs(y_test_inv[j,:],d))\n",
        "  Vp_pred_ul.append(getlogs(ul[j,:],d))\n",
        "  Vp_pred_ll.append(getlogs(ll[j,:],d))\n",
        "\n",
        "\n",
        "Vp_pred = np.array(Vp_pred)\n",
        "Vp_true = np.array(Vp_true)\n",
        "Vp_pred_ul = np.array(Vp_pred_ul)\n",
        "Vp_pred_ll = np.array(Vp_pred_ll)"
      ],
      "metadata": {
        "id": "PEJxn4HKrGhh"
      },
      "execution_count": null,
      "outputs": []
    },
    {
      "cell_type": "code",
      "source": [
        "i = random.randint(0, X_test.shape[0])\n",
        "print(y_test_inv[i])\n",
        "print(mean_predictions[i])\n",
        "print(std_predictions[i])\n",
        "print(mean_absolute_error(y_test_inv[i], mean_predictions[i]))\n",
        "print(ll[i])\n",
        "print(ul[i])"
      ],
      "metadata": {
        "colab": {
          "base_uri": "https://localhost:8080/"
        },
        "id": "RTTFOk-EMVuf",
        "outputId": "4987519e-edb8-4912-d5f9-e4e60edf5cf4"
      },
      "execution_count": null,
      "outputs": [
        {
          "output_type": "stream",
          "name": "stdout",
          "text": [
            "[1905.72627819 1532.86334693 2686.32223873 2969.42475704]\n",
            "[1902.08807698 1524.19218783 2677.36087533 2916.41226034]\n",
            "[74.329663   69.02014364 72.57008802 71.73280089]\n",
            "18.570805098302174\n",
            "[1753.42875098 1386.15190055 2532.2206993  2772.94665856]\n",
            "[2050.74740298 1662.2324751  2822.50105136 3059.87786212]\n"
          ]
        }
      ]
    },
    {
      "cell_type": "code",
      "source": [
        "X_true = x_scaler.inverse_transform(X_test)"
      ],
      "metadata": {
        "id": "b1PLmIqeTNaq"
      },
      "execution_count": null,
      "outputs": []
    },
    {
      "cell_type": "code",
      "source": [
        "s = random.randint(0, X_test.shape[0])\n",
        "plt.subplots(figsize=(5,10))\n",
        "ax = plt.gca()\n",
        "ax.set_ylim([max(dpth),min(dpth)])\n",
        "plt.plot(Vp_true[s,:],dpth,linewidth=2)\n",
        "plt.plot(Vp_pred[s,:],dpth,linewidth=2)\n",
        "ax.fill_betweenx(dpth, Vp_pred_ul[s,:], Vp_pred_ll[s,:],  alpha = 0.2)\n",
        "plt.title('Velocity')"
      ],
      "metadata": {
        "colab": {
          "base_uri": "https://localhost:8080/",
          "height": 871
        },
        "id": "3zEjide-tgwb",
        "outputId": "349e529f-4ba0-4d82-df77-4918471ed143"
      },
      "execution_count": null,
      "outputs": [
        {
          "output_type": "execute_result",
          "data": {
            "text/plain": [
              "Text(0.5, 1.0, 'Velocity')"
            ]
          },
          "metadata": {},
          "execution_count": 100
        },
        {
          "output_type": "display_data",
          "data": {
            "text/plain": [
              "<Figure size 500x1000 with 1 Axes>"
            ],
            "image/png": "[encoded data removed]"
          },
          "metadata": {}
        }
      ]
    },
    {
      "cell_type": "markdown",
      "metadata": {
        "id": "p7MMU6ogVcT3"
      },
      "source": [
        "BNN using Variational Inference"
      ]
    },
    {
      "cell_type": "code",
      "source": [
        "import tensorflow as tf\n",
        "from tensorflow.keras import layers, models\n",
        "\n",
        "def NLL(y, distr):\n",
        "  return -distr.log_prob(y)\n",
        "\n",
        "def normal_sp(params):\n",
        "  return tfd.Normal(loc=params[:,:4], scale=1e-3 + tf.math.softplus(0.05 * params[:,4:]))# both parameters are learnable\n",
        "\n",
        "\n",
        "class MCDropout(tf.keras.layers.Dropout):\n",
        "  def call(self, inputs):\n",
        "    return super().call(inputs, training=True)\n",
        "\n",
        "# Input layer\n",
        "inputs = tf.keras.Input(shape=(None, 1))\n",
        "\n",
        "# Reshape layer\n",
        "#x = layers.Reshape((None, 1))(inputs)\n",
        "\n",
        "# Convolutional layers with Dropout\n",
        "x = layers.Conv1D(filters=30, kernel_size=200, activation='relu', padding = 'same')(inputs)\n",
        "x = MCDropout(0.5)(x)\n",
        "x = layers.Conv1D(filters=10, kernel_size=200, activation='relu', padding = 'same')(x)\n",
        "x = MCDropout(0.5)(x)\n",
        "\n",
        "# Flatten layer\n",
        "x = layers.Flatten()(x)\n",
        "\n",
        "# Output layer with 8 neurons for the 4-layer velocity model_mc\n",
        "params = layers.Dense(8)(x)\n",
        "\n",
        "outputs = tfp.layers.DistributionLambda(normal_sp, convert_to_tensor_fn = tfd.Distribution.mean)(params)\n",
        "\n",
        "\n",
        "# Create the model_mc\n",
        "model_mc = tf.keras.Model(inputs=inputs, outputs=outputs)\n",
        "\n",
        "# Compile the model_mc\n",
        "model_mc.compile(Adam(learning_rate = 0.00005), loss=NLL, metrics=['mae'])\n",
        "\n",
        "# Print the model_mc summary\n",
        "model_mc.summary()\n"
      ],
      "metadata": {
        "colab": {
          "base_uri": "https://localhost:8080/",
          "height": 401
        },
        "id": "Qah2tQd12rXy",
        "outputId": "0129103f-3080-4886-9435-c9bf63148273"
      },
      "execution_count": null,
      "outputs": [
        {
          "output_type": "error",
          "ename": "ValueError",
          "evalue": "ignored",
          "traceback": [
            "\u001b[0;31m---------------------------------------------------------------------------\u001b[0m",
            "\u001b[0;31mValueError\u001b[0m                                Traceback (most recent call last)",
            "\u001b[0;32m<ipython-input-103-8d19ea10fdfc>\u001b[0m in \u001b[0;36m<cell line: 31>\u001b[0;34m()\u001b[0m\n\u001b[1;32m     29\u001b[0m \u001b[0;34m\u001b[0m\u001b[0m\n\u001b[1;32m     30\u001b[0m \u001b[0;31m# Output layer with 8 neurons for the 4-layer velocity model_mc\u001b[0m\u001b[0;34m\u001b[0m\u001b[0;34m\u001b[0m\u001b[0m\n\u001b[0;32m---> 31\u001b[0;31m \u001b[0mparams\u001b[0m \u001b[0;34m=\u001b[0m \u001b[0mlayers\u001b[0m\u001b[0;34m.\u001b[0m\u001b[0mDense\u001b[0m\u001b[0;34m(\u001b[0m\u001b[0;36m8\u001b[0m\u001b[0;34m)\u001b[0m\u001b[0;34m(\u001b[0m\u001b[0mx\u001b[0m\u001b[0;34m)\u001b[0m\u001b[0;34m\u001b[0m\u001b[0;34m\u001b[0m\u001b[0m\n\u001b[0m\u001b[1;32m     32\u001b[0m \u001b[0;34m\u001b[0m\u001b[0m\n\u001b[1;32m     33\u001b[0m \u001b[0moutputs\u001b[0m \u001b[0;34m=\u001b[0m \u001b[0mtfp\u001b[0m\u001b[0;34m.\u001b[0m\u001b[0mlayers\u001b[0m\u001b[0;34m.\u001b[0m\u001b[0mDistributionLambda\u001b[0m\u001b[0;34m(\u001b[0m\u001b[0mnormal_sp\u001b[0m\u001b[0;34m,\u001b[0m \u001b[0mconvert_to_tensor_fn\u001b[0m \u001b[0;34m=\u001b[0m \u001b[0mtfd\u001b[0m\u001b[0;34m.\u001b[0m\u001b[0mDistribution\u001b[0m\u001b[0;34m.\u001b[0m\u001b[0mmean\u001b[0m\u001b[0;34m)\u001b[0m\u001b[0;34m(\u001b[0m\u001b[0mparams\u001b[0m\u001b[0;34m)\u001b[0m\u001b[0;34m\u001b[0m\u001b[0;34m\u001b[0m\u001b[0m\n",
            "\u001b[0;32m/usr/local/lib/python3.10/dist-packages/keras/utils/traceback_utils.py\u001b[0m in \u001b[0;36merror_handler\u001b[0;34m(*args, **kwargs)\u001b[0m\n\u001b[1;32m     68\u001b[0m             \u001b[0;31m# To get the full stack trace, call:\u001b[0m\u001b[0;34m\u001b[0m\u001b[0;34m\u001b[0m\u001b[0m\n\u001b[1;32m     69\u001b[0m             \u001b[0;31m# `tf.debugging.disable_traceback_filtering()`\u001b[0m\u001b[0;34m\u001b[0m\u001b[0;34m\u001b[0m\u001b[0m\n\u001b[0;32m---> 70\u001b[0;31m             \u001b[0;32mraise\u001b[0m \u001b[0me\u001b[0m\u001b[0;34m.\u001b[0m\u001b[0mwith_traceback\u001b[0m\u001b[0;34m(\u001b[0m\u001b[0mfiltered_tb\u001b[0m\u001b[0;34m)\u001b[0m \u001b[0;32mfrom\u001b[0m \u001b[0;32mNone\u001b[0m\u001b[0;34m\u001b[0m\u001b[0;34m\u001b[0m\u001b[0m\n\u001b[0m\u001b[1;32m     71\u001b[0m         \u001b[0;32mfinally\u001b[0m\u001b[0;34m:\u001b[0m\u001b[0;34m\u001b[0m\u001b[0;34m\u001b[0m\u001b[0m\n\u001b[1;32m     72\u001b[0m             \u001b[0;32mdel\u001b[0m \u001b[0mfiltered_tb\u001b[0m\u001b[0;34m\u001b[0m\u001b[0;34m\u001b[0m\u001b[0m\n",
            "\u001b[0;32m/usr/local/lib/python3.10/dist-packages/keras/layers/core/dense.py\u001b[0m in \u001b[0;36mbuild\u001b[0;34m(self, input_shape)\u001b[0m\n\u001b[1;32m    146\u001b[0m         \u001b[0mlast_dim\u001b[0m \u001b[0;34m=\u001b[0m \u001b[0mtf\u001b[0m\u001b[0;34m.\u001b[0m\u001b[0mcompat\u001b[0m\u001b[0;34m.\u001b[0m\u001b[0mdimension_value\u001b[0m\u001b[0;34m(\u001b[0m\u001b[0minput_shape\u001b[0m\u001b[0;34m[\u001b[0m\u001b[0;34m-\u001b[0m\u001b[0;36m1\u001b[0m\u001b[0;34m]\u001b[0m\u001b[0;34m)\u001b[0m\u001b[0;34m\u001b[0m\u001b[0;34m\u001b[0m\u001b[0m\n\u001b[1;32m    147\u001b[0m         \u001b[0;32mif\u001b[0m \u001b[0mlast_dim\u001b[0m \u001b[0;32mis\u001b[0m \u001b[0;32mNone\u001b[0m\u001b[0;34m:\u001b[0m\u001b[0;34m\u001b[0m\u001b[0;34m\u001b[0m\u001b[0m\n\u001b[0;32m--> 148\u001b[0;31m             raise ValueError(\n\u001b[0m\u001b[1;32m    149\u001b[0m                 \u001b[0;34m\"The last dimension of the inputs to a Dense layer \"\u001b[0m\u001b[0;34m\u001b[0m\u001b[0;34m\u001b[0m\u001b[0m\n\u001b[1;32m    150\u001b[0m                 \u001b[0;34m\"should be defined. Found None. \"\u001b[0m\u001b[0;34m\u001b[0m\u001b[0;34m\u001b[0m\u001b[0m\n",
            "\u001b[0;31mValueError\u001b[0m: The last dimension of the inputs to a Dense layer should be defined. Found None. Full input shape received: (None, None)"
          ]
        }
      ]
    },
    {
      "cell_type": "code",
      "source": [
        "model_mc.fit(X_train, y_train, validation_data=(X_val, y_val), epochs=300, batch_size=32, verbose = 1)"
      ],
      "metadata": {
        "id": "g58H8Jpa3c-8"
      },
      "execution_count": null,
      "outputs": []
    },
    {
      "cell_type": "code",
      "source": [
        "preds = model_mc(X_test, training = True)\n",
        "y_preds = y_scaler.inverse_transform(preds.mean())\n",
        "y_test_inv = y_scaler.inverse_transform(y_test)\n",
        "#y_train_inv = y_scaler.inverse_transform(y_train)\n",
        "mae = mean_absolute_error(y_preds, y_test_inv)\n",
        "mae"
      ],
      "metadata": {
        "colab": {
          "base_uri": "https://localhost:8080/"
        },
        "id": "tbyqQirOO8u3",
        "outputId": "eef9be29-db58-4a62-9535-6e858e516530"
      },
      "execution_count": null,
      "outputs": [
        {
          "output_type": "execute_result",
          "data": {
            "text/plain": [
              "156.18357179447054"
            ]
          },
          "metadata": {},
          "execution_count": 32
        }
      ]
    },
    {
      "cell_type": "code",
      "source": [
        "# Perform Monte Carlo sampling\n",
        "n_samples = 300  # Number of Monte Carlo samples\n",
        "predictions = np.zeros((n_samples, X_test.shape[0], 4))\n",
        "\n",
        "for i in range(n_samples):\n",
        "    preds = model_mc(X_test, training = False)\n",
        "    y_preds = y_scaler.inverse_transform(preds.mean())\n",
        "    predictions[i] = y_preds\n",
        "\n",
        "# Calculate mean and standard deviation of predictions\n",
        "mean_predictions = np.mean(predictions, axis=0)\n",
        "std_predictions = np.std(predictions, axis=0)"
      ],
      "metadata": {
        "id": "alKqlTvaE5XK"
      },
      "execution_count": null,
      "outputs": []
    },
    {
      "cell_type": "code",
      "source": [
        "mae = mean_absolute_error(y_test_inv, mean_predictions)\n",
        "mae"
      ],
      "metadata": {
        "colab": {
          "base_uri": "https://localhost:8080/"
        },
        "id": "VOrZe7_FFH4z",
        "outputId": "eedb6abd-0c82-44be-ec3f-aac52f2975ee"
      },
      "execution_count": null,
      "outputs": [
        {
          "output_type": "execute_result",
          "data": {
            "text/plain": [
              "151.66995303460115"
            ]
          },
          "metadata": {},
          "execution_count": 35
        }
      ]
    },
    {
      "cell_type": "code",
      "source": [
        "std_predictions"
      ],
      "metadata": {
        "id": "ESFhJrEoFMb9"
      },
      "execution_count": null,
      "outputs": []
    },
    {
      "cell_type": "code",
      "source": [
        "X_true = x_scaler.inverse_transform(X_test)"
      ],
      "metadata": {
        "id": "Q9edhi6ZK6KB"
      },
      "execution_count": null,
      "outputs": []
    },
    {
      "cell_type": "code",
      "source": [
        "y_ul = preds.mean() + 2*preds.stddev()\n",
        "y_ll = preds.mean() - 2*preds.stddev()"
      ],
      "metadata": {
        "id": "YUmzQhpA6YZ0"
      },
      "execution_count": null,
      "outputs": []
    },
    {
      "cell_type": "code",
      "source": [
        "y_ul = y_scaler.inverse_transform(y_ul)\n",
        "y_ll = y_scaler.inverse_transform(y_ll)"
      ],
      "metadata": {
        "id": "1bTj1Vnd-kNR"
      },
      "execution_count": null,
      "outputs": []
    },
    {
      "cell_type": "code",
      "source": [
        "Vp_pred = np.ones((X_test.shape[0], l))\n",
        "y_actual = np.ones((X_test.shape[0], l))\n",
        "Vp_pred_ul = np.ones((X_test.shape[0], l))\n",
        "Vp_pred_ll = np.ones((X_test.shape[0], l))\n",
        "\n",
        "\n",
        "for i in range(X_test.shape[0]):\n",
        "  Vp_pred[i,0:int(l/4)] = y_preds[i][0]\n",
        "  Vp_pred[i,int(l/4):int(l/2)] = y_preds[i][1]\n",
        "  Vp_pred[i,int(l/2):int(3*l/4)] = y_preds[i][2]\n",
        "  Vp_pred[i,int(3*l/4):l] = y_preds[i][3]\n",
        "\n",
        "  y_actual[i,0:int(l/4)] = y_test_inv[i][0]\n",
        "  y_actual[i,int(l/4):int(l/2)] = y_test_inv[i][1]\n",
        "  y_actual[i,int(l/2):int(3*l/4)] = y_test_inv[i][2]\n",
        "  y_actual[i,int(3*l/4):l] = y_test_inv[i][3]\n",
        "\n",
        "  Vp_pred_ul[i,0:int(l/4)] = y_ul[i][0]\n",
        "  Vp_pred_ul[i,int(l/4):int(l/2)] = y_ul[i][1]\n",
        "  Vp_pred_ul[i,int(l/2):int(3*l/4)] = y_ul[i][2]\n",
        "  Vp_pred_ul[i,int(3*l/4):l] = y_ul[i][3]\n",
        "\n",
        "  Vp_pred_ll[i,0:int(l/4)] = y_ll[i][0]\n",
        "  Vp_pred_ll[i,int(l/4):int(l/2)] = y_ll[i][1]\n",
        "  Vp_pred_ll[i,int(l/2):int(3*l/4)] = y_ll[i][2]\n",
        "  Vp_pred_ll[i,int(3*l/4):l] = y_ll[i][3]"
      ],
      "metadata": {
        "id": "h6zwGuMLRiY8"
      },
      "execution_count": null,
      "outputs": []
    },
    {
      "cell_type": "code",
      "source": [
        "s = random.randint(0, X_test.shape[0])\n",
        "fig, axs = plt.subplots(ncols=2, figsize=(5, 8))\n",
        "\n",
        "ax = axs[0]\n",
        "ax.set_xlabel('Seismic Trace')\n",
        "ax.set_ylabel('Time sample')\n",
        "ax.set_ylim(l, 0)\n",
        "ax.set_xticklabels([])\n",
        "ax.plot(X_true[s,:], Ts[0:l])\n",
        "\n",
        "ax = axs[1]\n",
        "ax.set_ylim(l, 0)\n",
        "ax.plot(y_actual[s,:], Ts[0:l])\n",
        "ax.plot(Vp_pred[s,:], Ts[0:l])\n",
        "#ax.plot(Vp_pred_ul[s,:], Ts[0:l])\n",
        "#ax.plot(Vp_pred_ll[s,:], Ts[0:l])\n",
        "ax.fill_betweenx(Ts[0:l], Vp_pred_ul[s,:], Vp_pred_ll[s,:],  alpha = 0.2)\n",
        "ax.set_xlabel('Velocity Model')"
      ],
      "metadata": {
        "colab": {
          "base_uri": "https://localhost:8080/",
          "height": 719
        },
        "id": "YcTqeB9v0N93",
        "outputId": "151f06fd-b69f-46ac-93dd-da16f9f2f00b"
      },
      "execution_count": null,
      "outputs": [
        {
          "output_type": "execute_result",
          "data": {
            "text/plain": [
              "Text(0.5, 0, 'Velocity Model')"
            ]
          },
          "metadata": {},
          "execution_count": 28
        },
        {
          "output_type": "display_data",
          "data": {
            "text/plain": [
              "<Figure size 500x800 with 2 Axes>"
            ],
            "image/png": "[encoded data removed]"
          },
          "metadata": {}
        }
      ]
    },
    {
      "cell_type": "markdown",
      "metadata": {
        "id": "Q1qB9SzH2oO8"
      },
      "source": [
        "Bayesian CNN"
      ]
    },
    {
      "cell_type": "code",
      "execution_count": null,
      "metadata": {
        "id": "PMxZw-L0EgBR"
      },
      "outputs": [],
      "source": [
        "kernel_divergence_fn=lambda q, p, _: tfp.distributions.kl_divergence(q, p) / (X_norm.shape[0] * 1.0)\n",
        "bias_divergence_fn=lambda q, p, _: tfp.distributions.kl_divergence(q, p) / (X_norm.shape[0] * 1.0)\n",
        "\n",
        "def NLL(y, distr):\n",
        "  return -distr.log_prob(y)\n",
        "\n",
        "class MCDropout(tf.keras.layers.Dropout):\n",
        "  def call(self, inputs):\n",
        "    return super().call(inputs, training=True)\n",
        "\n",
        "def normal_sp(params):\n",
        "  return tfd.Normal(loc=params[:,:4], scale=1e-3 + tf.math.softplus(0.05 * params[:,4:]))# both parameters are learnable\n",
        "\n",
        "inputs = Input(shape=(l,1))\n",
        "\n",
        "\n",
        "hidden = tfp.layers.Convolution1DFlipout(filters=32, kernel_size=40, activation='relu',bias_posterior_fn=tfp.layers.util.default_mean_field_normal_fn(),\n",
        "                           bias_prior_fn=tfp.layers.default_multivariate_normal_fn,\n",
        "                           kernel_divergence_fn=kernel_divergence_fn,\n",
        "                           bias_divergence_fn=bias_divergence_fn)(inputs)\n",
        "hidden = tfp.layers.Convolution1DFlipout(filters=16, kernel_size=30, activation='relu',bias_posterior_fn=tfp.layers.util.default_mean_field_normal_fn(),\n",
        "                           bias_prior_fn=tfp.layers.default_multivariate_normal_fn,\n",
        "                           kernel_divergence_fn=kernel_divergence_fn,\n",
        "                           bias_divergence_fn=bias_divergence_fn)(hidden)\n",
        "\n",
        "hidden = layers.Flatten()(hidden)\n",
        "\n",
        "params = tfp.layers.DenseFlipout(8,bias_posterior_fn=tfp.layers.util.default_mean_field_normal_fn(),\n",
        "                           bias_prior_fn=tfp.layers.default_multivariate_normal_fn,\n",
        "                           kernel_divergence_fn=kernel_divergence_fn,\n",
        "                           bias_divergence_fn=bias_divergence_fn)(hidden)\n",
        "\n",
        "outputs = tfp.layers.DistributionLambda(normal_sp, convert_to_tensor_fn = tfd.Distribution.mean)(params)\n",
        "\n",
        "\n",
        "model_vi = Model(inputs=inputs, outputs=outputs)\n",
        "model_vi.compile(Adam(learning_rate = 0.0005), loss=NLL, metrics=['mae'])\n",
        "\n"
      ]
    },
    {
      "cell_type": "code",
      "execution_count": null,
      "metadata": {
        "id": "qVTvOxSQzisJ",
        "colab": {
          "base_uri": "https://localhost:8080/"
        },
        "outputId": "5cc87591-1051-4ab1-bebf-9fea87517229"
      },
      "outputs": [
        {
          "output_type": "stream",
          "name": "stdout",
          "text": [
            "Epoch 1/30\n",
            "113/113 [==============================] - 1s 10ms/step - loss: 1.4089 - mae: 0.3958 - val_loss: 1.3737 - val_mae: 0.3803\n",
            "Epoch 2/30\n",
            "113/113 [==============================] - 1s 9ms/step - loss: 1.4012 - mae: 0.3968 - val_loss: 1.3544 - val_mae: 0.3793\n",
            "Epoch 3/30\n",
            "113/113 [==============================] - 1s 10ms/step - loss: 1.3945 - mae: 0.3974 - val_loss: 1.3430 - val_mae: 0.3736\n",
            "Epoch 4/30\n",
            "113/113 [==============================] - 1s 12ms/step - loss: 1.4117 - mae: 0.3994 - val_loss: 1.3956 - val_mae: 0.3800\n",
            "Epoch 5/30\n",
            "113/113 [==============================] - 2s 15ms/step - loss: 1.3810 - mae: 0.3949 - val_loss: 1.3536 - val_mae: 0.3778\n",
            "Epoch 6/30\n",
            "113/113 [==============================] - 1s 10ms/step - loss: 1.3890 - mae: 0.3969 - val_loss: 1.3634 - val_mae: 0.3762\n",
            "Epoch 7/30\n",
            "113/113 [==============================] - 1s 9ms/step - loss: 1.3887 - mae: 0.3976 - val_loss: 1.3621 - val_mae: 0.3827\n",
            "Epoch 8/30\n",
            "113/113 [==============================] - 1s 9ms/step - loss: 1.3868 - mae: 0.3963 - val_loss: 1.3592 - val_mae: 0.3772\n",
            "Epoch 9/30\n",
            "113/113 [==============================] - 1s 9ms/step - loss: 1.3930 - mae: 0.3979 - val_loss: 1.3354 - val_mae: 0.3763\n",
            "Epoch 10/30\n",
            "113/113 [==============================] - 1s 9ms/step - loss: 1.3768 - mae: 0.3969 - val_loss: 1.3398 - val_mae: 0.3779\n",
            "Epoch 11/30\n",
            "113/113 [==============================] - 1s 9ms/step - loss: 1.3872 - mae: 0.3974 - val_loss: 1.4585 - val_mae: 0.3826\n",
            "Epoch 12/30\n",
            "113/113 [==============================] - 1s 9ms/step - loss: 1.4294 - mae: 0.4018 - val_loss: 1.3429 - val_mae: 0.3810\n",
            "Epoch 13/30\n",
            "113/113 [==============================] - 1s 9ms/step - loss: 1.3711 - mae: 0.3960 - val_loss: 1.3249 - val_mae: 0.3755\n",
            "Epoch 14/30\n",
            "113/113 [==============================] - 1s 9ms/step - loss: 1.3700 - mae: 0.3966 - val_loss: 1.3189 - val_mae: 0.3754\n",
            "Epoch 15/30\n",
            "113/113 [==============================] - 1s 12ms/step - loss: 1.3970 - mae: 0.3974 - val_loss: 1.3362 - val_mae: 0.3790\n",
            "Epoch 16/30\n",
            "113/113 [==============================] - 2s 14ms/step - loss: 1.3645 - mae: 0.3960 - val_loss: 1.3278 - val_mae: 0.3755\n",
            "Epoch 17/30\n",
            "113/113 [==============================] - 1s 10ms/step - loss: 1.3658 - mae: 0.3962 - val_loss: 1.3132 - val_mae: 0.3731\n",
            "Epoch 18/30\n",
            "113/113 [==============================] - 1s 9ms/step - loss: 1.3563 - mae: 0.3942 - val_loss: 1.3481 - val_mae: 0.3792\n",
            "Epoch 19/30\n",
            "113/113 [==============================] - 1s 9ms/step - loss: 1.3657 - mae: 0.3985 - val_loss: 1.3223 - val_mae: 0.3781\n",
            "Epoch 20/30\n",
            "113/113 [==============================] - 1s 9ms/step - loss: 1.3632 - mae: 0.3973 - val_loss: 1.3340 - val_mae: 0.3769\n",
            "Epoch 21/30\n",
            "113/113 [==============================] - 1s 10ms/step - loss: 1.3691 - mae: 0.3979 - val_loss: 1.3031 - val_mae: 0.3713\n",
            "Epoch 22/30\n",
            "113/113 [==============================] - 1s 9ms/step - loss: 1.3695 - mae: 0.3979 - val_loss: 1.3079 - val_mae: 0.3739\n",
            "Epoch 23/30\n",
            "113/113 [==============================] - 1s 9ms/step - loss: 1.3518 - mae: 0.3959 - val_loss: 1.3160 - val_mae: 0.3784\n",
            "Epoch 24/30\n",
            "113/113 [==============================] - 1s 9ms/step - loss: 1.3486 - mae: 0.3961 - val_loss: 1.3080 - val_mae: 0.3756\n",
            "Epoch 25/30\n",
            "113/113 [==============================] - 1s 9ms/step - loss: 1.3574 - mae: 0.3960 - val_loss: 1.3171 - val_mae: 0.3776\n",
            "Epoch 26/30\n",
            "113/113 [==============================] - 2s 14ms/step - loss: 1.3449 - mae: 0.3954 - val_loss: 1.3356 - val_mae: 0.3788\n",
            "Epoch 27/30\n",
            "113/113 [==============================] - 1s 13ms/step - loss: 1.3564 - mae: 0.3955 - val_loss: 1.3031 - val_mae: 0.3760\n",
            "Epoch 28/30\n",
            "113/113 [==============================] - 1s 9ms/step - loss: 1.3338 - mae: 0.3933 - val_loss: 1.3007 - val_mae: 0.3762\n",
            "Epoch 29/30\n",
            "113/113 [==============================] - 1s 10ms/step - loss: 1.3466 - mae: 0.3962 - val_loss: 1.2962 - val_mae: 0.3746\n",
            "Epoch 30/30\n",
            "113/113 [==============================] - 1s 10ms/step - loss: 1.3464 - mae: 0.3954 - val_loss: 1.3172 - val_mae: 0.3794\n"
          ]
        },
        {
          "output_type": "execute_result",
          "data": {
            "text/plain": [
              "<keras.callbacks.History at 0x7d29922ae860>"
            ]
          },
          "metadata": {},
          "execution_count": 79
        }
      ],
      "source": [
        "model_vi.fit(X_train, y_train, validation_data=(X_val, y_val), epochs=30, batch_size=32, verbose = 1)"
      ]
    },
    {
      "cell_type": "code",
      "execution_count": null,
      "metadata": {
        "colab": {
          "base_uri": "https://localhost:8080/"
        },
        "id": "cvh2Vyd-5Pvq",
        "outputId": "4d11aacf-7dc5-4ea9-9bce-92837f175a73"
      },
      "outputs": [
        {
          "output_type": "execute_result",
          "data": {
            "text/plain": [
              "168.35361748504505"
            ]
          },
          "metadata": {},
          "execution_count": 80
        }
      ],
      "source": [
        "preds = model_vi(X_test)\n",
        "y_preds = y_scaler.inverse_transform(preds.mean())\n",
        "y_test_inv = y_scaler.inverse_transform(y_test)\n",
        "#y_train_inv = y_scaler.inverse_transform(y_train)\n",
        "mae = mean_absolute_error(y_preds, y_test_inv)\n",
        "mae"
      ]
    },
    {
      "cell_type": "code",
      "source": [
        "y_ul = preds.mean() + 2*preds.stddev()\n",
        "y_ll = preds.mean() - 2*preds.stddev()"
      ],
      "metadata": {
        "id": "n_0jcJh376Zj"
      },
      "execution_count": null,
      "outputs": []
    },
    {
      "cell_type": "code",
      "source": [
        "y_ul = y_scaler.inverse_transform(y_ul)\n",
        "y_ll = y_scaler.inverse_transform(y_ll)"
      ],
      "metadata": {
        "id": "DZpe2GGGCSOr"
      },
      "execution_count": null,
      "outputs": []
    },
    {
      "cell_type": "code",
      "source": [
        "Vp_pred = np.ones((X_test.shape[0], l))\n",
        "y_actual = np.ones((X_test.shape[0], l))\n",
        "Vp_pred_ul = np.ones((X_test.shape[0], l))\n",
        "Vp_pred_ll = np.ones((X_test.shape[0], l))\n",
        "\n",
        "\n",
        "for i in range(X_test.shape[0]):\n",
        "  Vp_pred[i,0:int(l/4)] = y_preds[i][0]\n",
        "  Vp_pred[i,int(l/4):int(l/2)] = y_preds[i][1]\n",
        "  Vp_pred[i,int(l/2):int(3*l/4)] = y_preds[i][2]\n",
        "  Vp_pred[i,int(3*l/4):l] = y_preds[i][3]\n",
        "\n",
        "  y_actual[i,0:int(l/4)] = y_test_inv[i][0]\n",
        "  y_actual[i,int(l/4):int(l/2)] = y_test_inv[i][1]\n",
        "  y_actual[i,int(l/2):int(3*l/4)] = y_test_inv[i][2]\n",
        "  y_actual[i,int(3*l/4):l] = y_test_inv[i][3]\n",
        "\n",
        "  Vp_pred_ul[i,0:int(l/4)] = y_ul[i][0]\n",
        "  Vp_pred_ul[i,int(l/4):int(l/2)] = y_ul[i][1]\n",
        "  Vp_pred_ul[i,int(l/2):int(3*l/4)] = y_ul[i][2]\n",
        "  Vp_pred_ul[i,int(3*l/4):l] = y_ul[i][3]\n",
        "\n",
        "  Vp_pred_ll[i,0:int(l/4)] = y_ll[i][0]\n",
        "  Vp_pred_ll[i,int(l/4):int(l/2)] = y_ll[i][1]\n",
        "  Vp_pred_ll[i,int(l/2):int(3*l/4)] = y_ll[i][2]\n",
        "  Vp_pred_ll[i,int(3*l/4):l] = y_ll[i][3]"
      ],
      "metadata": {
        "id": "Bi34skXVCXgl"
      },
      "execution_count": null,
      "outputs": []
    },
    {
      "cell_type": "code",
      "source": [
        "s = random.randint(0, X_test.shape[0])\n",
        "fig, axs = plt.subplots(ncols=2, figsize=(5, 8))\n",
        "\n",
        "ax = axs[0]\n",
        "ax.set_xlabel('Seismic Trace')\n",
        "ax.set_ylabel('Time sample')\n",
        "ax.set_ylim(l, 0)\n",
        "ax.set_xticklabels([])\n",
        "ax.plot(X_true[s,:], Ts[0:l])\n",
        "\n",
        "ax = axs[1]\n",
        "ax.set_ylim(l, 0)\n",
        "ax.plot(y_actual[s,:], Ts[0:l])\n",
        "ax.plot(Vp_pred[s,:], Ts[0:l])\n",
        "#ax.plot(Vp_pred_ul[s,:], Ts[0:l])\n",
        "#ax.plot(Vp_pred_ll[s,:], Ts[0:l])\n",
        "ax.fill_betweenx(Ts[0:l], Vp_pred_ul[s,:], Vp_pred_ll[s,:],  alpha = 0.2)\n",
        "ax.set_xlabel('Velocity Model')"
      ],
      "metadata": {
        "id": "LQ8jXujbCa2q",
        "colab": {
          "base_uri": "https://localhost:8080/",
          "height": 719
        },
        "outputId": "a484c1a9-686a-428b-c76d-5d5bc095b0a9"
      },
      "execution_count": null,
      "outputs": [
        {
          "output_type": "execute_result",
          "data": {
            "text/plain": [
              "Text(0.5, 0, 'Velocity Model')"
            ]
          },
          "metadata": {},
          "execution_count": 88
        },
        {
          "output_type": "display_data",
          "data": {
            "text/plain": [
              "<Figure size 500x800 with 2 Axes>"
            ],
            "image/png": "[encoded data removed]"
          },
          "metadata": {}
        }
      ]
    },
    {
      "cell_type": "markdown",
      "source": [
        "Gaussian Process Regression"
      ],
      "metadata": {
        "id": "z3GR2ItQ1pD8"
      }
    },
    {
      "cell_type": "code",
      "source": [
        "kernel = 1 * RBF(length_scale=0.1, length_scale_bounds=(10, 10))\n",
        "gaussian_process = GaussianProcessRegressor(kernel=kernel, n_restarts_optimizer=100, alpha = 0.04)\n",
        "gaussian_process.fit(X_train, y_train)"
      ],
      "metadata": {
        "colab": {
          "base_uri": "https://localhost:8080/",
          "height": 127
        },
        "id": "EQ1P8rf51tOA",
        "outputId": "1c55241e-3664-4044-bab0-975ea16cd1fd"
      },
      "execution_count": null,
      "outputs": [
        {
          "output_type": "stream",
          "name": "stderr",
          "text": [
            "/usr/local/lib/python3.10/dist-packages/sklearn/gaussian_process/kernels.py:420: ConvergenceWarning: The optimal value found for dimension 0 of parameter k2__length_scale is close to the specified lower bound 10. Decreasing the bound and calling fit again may find a better value.\n",
            "  warnings.warn(\n"
          ]
        },
        {
          "output_type": "execute_result",
          "data": {
            "text/plain": [
              "GaussianProcessRegressor(alpha=0.04, kernel=1**2 * RBF(length_scale=0.1),\n",
              "                         n_restarts_optimizer=100)"
            ],
            "text/html": [
              "<style>#sk-container-id-5 {color: black;background-color: white;}#sk-container-id-5 pre{padding: 0;}#sk-container-id-5 div.sk-toggleable {background-color: white;}#sk-container-id-5 label.sk-toggleable__label {cursor: pointer;display: block;width: 100%;margin-bottom: 0;padding: 0.3em;box-sizing: border-box;text-align: center;}#sk-container-id-5 label.sk-toggleable__label-arrow:before {content: \"▸\";float: left;margin-right: 0.25em;color: #696969;}#sk-container-id-5 label.sk-toggleable__label-arrow:hover:before {color: black;}#sk-container-id-5 div.sk-estimator:hover label.sk-toggleable__label-arrow:before {color: black;}#sk-container-id-5 div.sk-toggleable__content {max-height: 0;max-width: 0;overflow: hidden;text-align: left;background-color: #f0f8ff;}#sk-container-id-5 div.sk-toggleable__content pre {margin: 0.2em;color: black;border-radius: 0.25em;background-color: #f0f8ff;}#sk-container-id-5 input.sk-toggleable__control:checked~div.sk-toggleable__content {max-height: 200px;max-width: 100%;overflow: auto;}#sk-container-id-5 input.sk-toggleable__control:checked~label.sk-toggleable__label-arrow:before {content: \"▾\";}#sk-container-id-5 div.sk-estimator input.sk-toggleable__control:checked~label.sk-toggleable__label {background-color: #d4ebff;}#sk-container-id-5 div.sk-label input.sk-toggleable__control:checked~label.sk-toggleable__label {background-color: #d4ebff;}#sk-container-id-5 input.sk-hidden--visually {border: 0;clip: rect(1px 1px 1px 1px);clip: rect(1px, 1px, 1px, 1px);height: 1px;margin: -1px;overflow: hidden;padding: 0;position: absolute;width: 1px;}#sk-container-id-5 div.sk-estimator {font-family: monospace;background-color: #f0f8ff;border: 1px dotted black;border-radius: 0.25em;box-sizing: border-box;margin-bottom: 0.5em;}#sk-container-id-5 div.sk-estimator:hover {background-color: #d4ebff;}#sk-container-id-5 div.sk-parallel-item::after {content: \"\";width: 100%;border-bottom: 1px solid gray;flex-grow: 1;}#sk-container-id-5 div.sk-label:hover label.sk-toggleable__label {background-color: #d4ebff;}#sk-container-id-5 div.sk-serial::before {content: \"\";position: absolute;border-left: 1px solid gray;box-sizing: border-box;top: 0;bottom: 0;left: 50%;z-index: 0;}#sk-container-id-5 div.sk-serial {display: flex;flex-direction: column;align-items: center;background-color: white;padding-right: 0.2em;padding-left: 0.2em;position: relative;}#sk-container-id-5 div.sk-item {position: relative;z-index: 1;}#sk-container-id-5 div.sk-parallel {display: flex;align-items: stretch;justify-content: center;background-color: white;position: relative;}#sk-container-id-5 div.sk-item::before, #sk-container-id-5 div.sk-parallel-item::before {content: \"\";position: absolute;border-left: 1px solid gray;box-sizing: border-box;top: 0;bottom: 0;left: 50%;z-index: -1;}#sk-container-id-5 div.sk-parallel-item {display: flex;flex-direction: column;z-index: 1;position: relative;background-color: white;}#sk-container-id-5 div.sk-parallel-item:first-child::after {align-self: flex-end;width: 50%;}#sk-container-id-5 div.sk-parallel-item:last-child::after {align-self: flex-start;width: 50%;}#sk-container-id-5 div.sk-parallel-item:only-child::after {width: 0;}#sk-container-id-5 div.sk-dashed-wrapped {border: 1px dashed gray;margin: 0 0.4em 0.5em 0.4em;box-sizing: border-box;padding-bottom: 0.4em;background-color: white;}#sk-container-id-5 div.sk-label label {font-family: monospace;font-weight: bold;display: inline-block;line-height: 1.2em;}#sk-container-id-5 div.sk-label-container {text-align: center;}#sk-container-id-5 div.sk-container {/* jupyter's `normalize.less` sets `[hidden] { display: none; }` but bootstrap.min.css set `[hidden] { display: none !important; }` so we also need the `!important` here to be able to override the default hidden behavior on the sphinx rendered scikit-learn.org. See: https://github.com/scikit-learn/scikit-learn/issues/21755 */display: inline-block !important;position: relative;}#sk-container-id-5 div.sk-text-repr-fallback {display: none;}</style><div id=\"sk-container-id-5\" class=\"sk-top-container\"><div class=\"sk-text-repr-fallback\"><pre>GaussianProcessRegressor(alpha=0.04, kernel=1**2 * RBF(length_scale=0.1),\n",
              "                         n_restarts_optimizer=100)</pre><b>In a Jupyter environment, please rerun this cell to show the HTML representation or trust the notebook. <br />On GitHub, the HTML representation is unable to render, please try loading this page with nbviewer.org.</b></div><div class=\"sk-container\" hidden><div class=\"sk-item\"><div class=\"sk-estimator sk-toggleable\"><input class=\"sk-toggleable__control sk-hidden--visually\" id=\"sk-estimator-id-5\" type=\"checkbox\" checked><label for=\"sk-estimator-id-5\" class=\"sk-toggleable__label sk-toggleable__label-arrow\">GaussianProcessRegressor</label><div class=\"sk-toggleable__content\"><pre>GaussianProcessRegressor(alpha=0.04, kernel=1**2 * RBF(length_scale=0.1),\n",
              "                         n_restarts_optimizer=100)</pre></div></div></div></div></div>"
            ]
          },
          "metadata": {},
          "execution_count": 61
        }
      ]
    },
    {
      "cell_type": "code",
      "source": [
        "mean_prediction, std_prediction = gaussian_process.predict(X_test, return_std=True)"
      ],
      "metadata": {
        "id": "TeVwYce11wRu"
      },
      "execution_count": null,
      "outputs": []
    },
    {
      "cell_type": "code",
      "source": [
        "y_preds = y_scaler.inverse_transform(mean_prediction)\n",
        "y_test_inv = y_scaler.inverse_transform(y_test)\n",
        "mae = mean_absolute_error(y_preds, y_test_inv)\n",
        "#mae = mean_absolute_error(mean_prediction, y_test)\n",
        "mae"
      ],
      "metadata": {
        "colab": {
          "base_uri": "https://localhost:8080/"
        },
        "id": "6zAUZQwi2FJn",
        "outputId": "f7b7a4f6-5958-4cae-d5de-7e160e30a729"
      },
      "execution_count": null,
      "outputs": [
        {
          "output_type": "execute_result",
          "data": {
            "text/plain": [
              "137.66301208042756"
            ]
          },
          "metadata": {},
          "execution_count": 63
        }
      ]
    },
    {
      "cell_type": "code",
      "source": [
        "ll = np.zeros((X_test.shape[0], 4)) # lower limit\n",
        "ul = np.zeros((X_test.shape[0], 4)) # lower limit\n",
        "\n",
        "for i in range(X_test.shape[0]):\n",
        "  ll[i] = mean_prediction[i] - 2*std_prediction[i]\n",
        "  ul[i] = mean_prediction[i] + 2*std_prediction[i]\n",
        "\n",
        "ll = y_scaler.inverse_transform(ll)\n",
        "ul = y_scaler.inverse_transform(ul)"
      ],
      "metadata": {
        "id": "mLyS4smy2IUg"
      },
      "execution_count": null,
      "outputs": []
    },
    {
      "cell_type": "code",
      "source": [
        "def getlogs(v, d):\n",
        "\n",
        "    # Ensure that these are float numpy arrays\n",
        "    v, d = np.array(v, dtype=float), np.array(d, dtype=float)\n",
        "\n",
        "    nlayer = len(v) # number of layers\n",
        "\n",
        "    # Check that the number of layers match\n",
        "    assert len(rho) == nlayer, 'Number of layer densities must match number of layer velocities'\n",
        "    assert len(d)   == nlayer, 'Number of layer tops must match the number of layer velocities'\n",
        "\n",
        "    # create model logs\n",
        "    resolution = 100\n",
        "    dpth   = np.linspace(0,np.max(d)+np.max(np.diff(d)),resolution)\n",
        "    nd     = len(dpth)\n",
        "    vlog    = np.zeros(nd)\n",
        "\n",
        "    for i in range(nlayer):\n",
        "        di         = (dpth >= d[i])\n",
        "        vlog[di]   = v[i]\n",
        "\n",
        "    return vlog"
      ],
      "metadata": {
        "id": "NHdsDeFl3GQl"
      },
      "execution_count": null,
      "outputs": []
    },
    {
      "cell_type": "code",
      "source": [
        "resolution = 100\n",
        "dpth   = np.linspace(0,np.max(d)+np.max(np.diff(d)),resolution)\n"
      ],
      "metadata": {
        "id": "GaW1lnxu3Ze-"
      },
      "execution_count": null,
      "outputs": []
    },
    {
      "cell_type": "code",
      "source": [
        "Vp_pred = []\n",
        "Vp_pred_ul = []\n",
        "Vp_pred_ll = []\n",
        "Vp_true = []\n",
        "\n",
        "for j in range(0, X_test.shape[0]):\n",
        "  Vp_pred.append(getlogs(y_preds[j,:],d))\n",
        "  Vp_true.append(getlogs(y_test_inv[j,:],d))\n",
        "  Vp_pred_ul.append(getlogs(ul[j,:],d))\n",
        "  Vp_pred_ll.append(getlogs(ll[j,:],d))\n",
        "\n",
        "\n",
        "Vp_pred = np.array(Vp_pred)\n",
        "Vp_true = np.array(Vp_true)\n",
        "Vp_pred_ul = np.array(Vp_pred_ul)\n",
        "Vp_pred_ll = np.array(Vp_pred_ll)"
      ],
      "metadata": {
        "id": "7whE0YEU3hS2"
      },
      "execution_count": null,
      "outputs": []
    },
    {
      "cell_type": "code",
      "source": [
        "i = random.randint(0, X_test.shape[0])\n",
        "print(y_test_inv[i])\n",
        "print(y_preds[i])\n",
        "print(mean_absolute_error(y_test_inv[i], y_preds[i]))\n",
        "print(ll[i])\n",
        "print(ul[i])"
      ],
      "metadata": {
        "colab": {
          "base_uri": "https://localhost:8080/"
        },
        "id": "NmZnohAI3rNd",
        "outputId": "f0a9109b-1ad7-4160-e29c-7ff52f53eba7"
      },
      "execution_count": null,
      "outputs": [
        {
          "output_type": "stream",
          "name": "stdout",
          "text": [
            "[2029.01616162 2206.33302974 2398.85106993 2288.67061804]\n",
            "[2202.24078905 2305.40185337 2427.17621155 2421.59885154]\n",
            "108.38670654394957\n",
            "[1824.95973917 1931.12182737 2031.07896343 2042.22606794]\n",
            "[2579.52183894 2679.68187937 2823.27345966 2800.97163514]\n"
          ]
        }
      ]
    },
    {
      "cell_type": "code",
      "source": [
        "s = random.randint(0, X_test.shape[0])\n",
        "plt.subplots(figsize=(5,10))\n",
        "ax = plt.gca()\n",
        "ax.set_ylim([max(dpth),min(dpth)])\n",
        "plt.plot(Vp_true[s,:],dpth,linewidth=2)\n",
        "plt.plot(Vp_pred[s,:],dpth,linewidth=2)\n",
        "ax.fill_betweenx(dpth, Vp_pred_ul[s,:], Vp_pred_ll[s,:],  alpha = 0.2)\n",
        "plt.title('Velocity')"
      ],
      "metadata": {
        "colab": {
          "base_uri": "https://localhost:8080/",
          "height": 871
        },
        "id": "dANE4z_330Cd",
        "outputId": "14625441-39f7-4a10-912f-800c6905c615"
      },
      "execution_count": null,
      "outputs": [
        {
          "output_type": "execute_result",
          "data": {
            "text/plain": [
              "Text(0.5, 1.0, 'Velocity')"
            ]
          },
          "metadata": {},
          "execution_count": 60
        },
        {
          "output_type": "display_data",
          "data": {
            "text/plain": [
              "<Figure size 500x1000 with 1 Axes>"
            ],
            "image/png": "[encoded data removed]"
          },
          "metadata": {}
        }
      ]
    },
    {
      "cell_type": "code",
      "source": [],
      "metadata": {
        "id": "pmkXIUlP9R7m"
      },
      "execution_count": null,
      "outputs": []
    }
  ],
  "metadata": {
    "colab": {
      "provenance": [],
      "gpuType": "T4"
    },
    "kernelspec": {
      "display_name": "Python 3",
      "name": "python3"
    },
    "language_info": {
      "codemirror_mode": {
        "name": "ipython",
        "version": 3
      },
      "file_extension": ".py",
      "mimetype": "text/x-python",
      "name": "python",
      "nbconvert_exporter": "python",
      "pygments_lexer": "ipython3",
      "version": "3.6.3"
    },
    "accelerator": "GPU"
  },
  "nbformat": 4,
  "nbformat_minor": 0
}